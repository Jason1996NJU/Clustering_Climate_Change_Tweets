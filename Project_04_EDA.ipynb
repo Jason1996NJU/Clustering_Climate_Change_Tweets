{
 "cells": [
  {
   "cell_type": "markdown",
   "metadata": {},
   "source": [
    "# EDA"
   ]
  },
  {
   "cell_type": "markdown",
   "metadata": {},
   "source": [
    "- This notebook utilizes the `tweets_classified_US` dataframe that was created in the **Project_04_US_NMF** notebook.\n",
    "- The following tasks will be performed before exploratory data analysis is executed:\n",
    "    - Insert month and year columns into `tweets_classified_US`\n",
    "    - Insert region user region column into `tweets_classified_US`\n",
    "- The following EDA will be performed with the updated `tweets_classified_US` dataframe:\n",
    "    - Investigate the number of believer and denier tweets by region\n",
    "    - Investigate how \"consistent\" users are, i.e. do they only tweet believer or denier tweets, or is there a mix?\n",
    "    - Investigate the total number of believer users vs denier users\n",
    "    - Investigate the total number of users by region\n",
    "    - Investigate the number of believer and denier users by region"
   ]
  },
  {
   "cell_type": "code",
   "execution_count": 137,
   "metadata": {},
   "outputs": [],
   "source": [
    "import pickle\n",
    "import re\n",
    "import string\n",
    "import pandas as pd\n",
    "import numpy as np\n",
    "import datetime as dt\n",
    "import matplotlib.pyplot as plt\n",
    "\n",
    "pd.set_option('display.max_columns', None)\n",
    "pd.set_option('display.max_rows', 30)\n",
    "pd.set_option('display.precision', 3)\n",
    "\n",
    "import nltk\n",
    "\n",
    "from sklearn.feature_extraction import text\n",
    "from sklearn.feature_extraction.text import CountVectorizer\n",
    "from sklearn.feature_extraction.text import TfidfVectorizer\n",
    "from sklearn.decomposition import TruncatedSVD\n",
    "from sklearn.decomposition import NMF\n",
    "from sklearn.metrics.pairwise import cosine_similarity\n",
    "\n",
    "# gensim\n",
    "from gensim import corpora, models, similarities, matutils\n",
    "\n",
    "# logging for gensim (set to INFO)\n",
    "import logging\n",
    "logging.basicConfig(format='%(asctime)s : %(levelname)s : %(message)s', level=logging.INFO)"
   ]
  },
  {
   "cell_type": "markdown",
   "metadata": {},
   "source": [
    "# Load in Dataframes"
   ]
  },
  {
   "cell_type": "code",
   "execution_count": 2,
   "metadata": {},
   "outputs": [],
   "source": [
    "with open('Data/tweets_classified_US.pkl','rb') as read_file:\n",
    "    tweets_classified_US = pickle.load(read_file)"
   ]
  },
  {
   "cell_type": "code",
   "execution_count": 3,
   "metadata": {},
   "outputs": [],
   "source": [
    "with open('Data/tweets_classified_Other.pkl','rb') as read_file:\n",
    "    tweets_classified_Other = pickle.load(read_file)"
   ]
  },
  {
   "cell_type": "code",
   "execution_count": 4,
   "metadata": {},
   "outputs": [],
   "source": [
    "with open('Data/tweets_classified_logit.pkl','rb') as read_file:\n",
    "    tweets_classified = pickle.load(read_file)"
   ]
  },
  {
   "cell_type": "markdown",
   "metadata": {},
   "source": [
    "# Convert date columns to datetime and insert month and year columns"
   ]
  },
  {
   "cell_type": "code",
   "execution_count": 5,
   "metadata": {},
   "outputs": [],
   "source": [
    "date = pd.to_datetime(tweets_classified_US['created_at'], format='%m/%d/%Y')"
   ]
  },
  {
   "cell_type": "code",
   "execution_count": 6,
   "metadata": {},
   "outputs": [],
   "source": [
    "tweets_classified_US.insert(1, column = \"Month\", value = date.dt.month)\n",
    "tweets_classified_US.insert(2, column = \"Year\", value = date.dt.year)"
   ]
  },
  {
   "cell_type": "markdown",
   "metadata": {},
   "source": [
    "---"
   ]
  },
  {
   "cell_type": "code",
   "execution_count": 7,
   "metadata": {},
   "outputs": [
    {
     "data": {
      "text/plain": [
       "False    1235350\n",
       "Name: User_Location, dtype: int64"
      ]
     },
     "execution_count": 7,
     "metadata": {},
     "output_type": "execute_result"
    }
   ],
   "source": [
    "tweets_classified_US['User_Location'].isna().value_counts()"
   ]
  },
  {
   "cell_type": "code",
   "execution_count": 8,
   "metadata": {},
   "outputs": [
    {
     "data": {
      "text/plain": [
       "False    2024011\n",
       "True      966055\n",
       "Name: User_Location, dtype: int64"
      ]
     },
     "execution_count": 8,
     "metadata": {},
     "output_type": "execute_result"
    }
   ],
   "source": [
    "tweets_classified_Other['User_Location'].isna().value_counts()"
   ]
  },
  {
   "cell_type": "code",
   "execution_count": 9,
   "metadata": {},
   "outputs": [],
   "source": [
    "tweets_classified_Other = tweets_classified_Other[tweets_classified_Other['User_Location'].isna() == False]\n"
   ]
  },
  {
   "cell_type": "code",
   "execution_count": 10,
   "metadata": {},
   "outputs": [
    {
     "data": {
      "text/plain": [
       "False    2024011\n",
       "Name: User_Location, dtype: int64"
      ]
     },
     "execution_count": 10,
     "metadata": {},
     "output_type": "execute_result"
    }
   ],
   "source": [
    "tweets_classified_Other['User_Location'].isna().value_counts()"
   ]
  },
  {
   "cell_type": "code",
   "execution_count": 11,
   "metadata": {},
   "outputs": [],
   "source": [
    "# with open('tweets_classified_Other2.pkl', 'wb') as to_write:\n",
    "#     pickle.dump(tweets_classified_Other, to_write)"
   ]
  },
  {
   "cell_type": "code",
   "execution_count": 12,
   "metadata": {},
   "outputs": [],
   "source": [
    "# tweets_sentiment_US = tweets_classified_US.groupby('Believer_or_Denier')['Tweet_Sentiment'].value_counts()"
   ]
  },
  {
   "cell_type": "code",
   "execution_count": 14,
   "metadata": {},
   "outputs": [],
   "source": [
    "# tweets_sentiment_Other = tweets_classified_Other.groupby('Believer_or_Denier')['Tweet_Sentiment'].value_counts()\n"
   ]
  },
  {
   "cell_type": "markdown",
   "metadata": {},
   "source": [
    "---"
   ]
  },
  {
   "cell_type": "markdown",
   "metadata": {},
   "source": [
    "# Determine US Region for Each Tweet"
   ]
  },
  {
   "cell_type": "markdown",
   "metadata": {},
   "source": [
    "- Based on `region_dict`, assign region to each tweet in `tweets_classified_US`"
   ]
  },
  {
   "cell_type": "code",
   "execution_count": 18,
   "metadata": {},
   "outputs": [],
   "source": [
    "region_dict = {\n",
    "                'Northeast': ['Maryland', 'MD', 'Delaware', 'DE', 'District of Columbia', 'DC', 'New Jersey', 'NJ', 'Pennsylvania', 'PA', 'New York', 'NY', 'Massachusetts', 'MA', \n",
    "                              'Connecticut', 'CT', 'Rhode Island', 'RI', 'New Hampshire', 'NH', 'Vermont', 'VT', 'Maine', 'ME', 'Virginia', 'VA'],\n",
    "               'West Coast': ['California', 'CA', 'Oregon', 'OR', 'Washington', 'WA'],\n",
    "                  'Rockies': ['Nevada', 'NV', 'Utah', 'UT', 'Idaho', 'ID', 'Montana', 'MT', 'Wyoming', 'WY', 'Colorado', 'CO'],\n",
    "                'Southwest': ['Arizona', 'AZ', 'New Mexico', 'NM'],\n",
    "                  'Midwest': ['Missouri', 'MO', 'Kansas', 'KS', 'North Dakota', 'ND', 'South Dakota', 'SD', 'Nebraska', 'NE', 'Minnesota', 'MN', 'Iowa', 'IA', 'Wisconsin', 'WI', \n",
    "                              'Illinois', 'IL', 'Indiana', 'IN', 'Michigan', 'MI', 'Ohio', 'OH'],\n",
    "                    'South': ['Texas', 'TX', 'Oklahoma', 'OK', 'Arkansas', 'AR', 'Louisiana', 'LA', 'Mississippi', 'MS', 'Alabama', 'AL', 'Georgia', 'GA', 'Florida', 'FL', \n",
    "                              'Kentucky', 'KY', 'Tennessee', 'TN', 'North Carolina', 'NC', 'South Carolina', 'SC', 'West Virginia', 'WV'],\n",
    "                   'Hawaii': ['Hawaii', 'HI'],\n",
    "                   'Alaska': ['Alaska', 'AK'],\n",
    "                       'US': ['US', 'USA', 'United States']\n",
    "              }"
   ]
  },
  {
   "cell_type": "code",
   "execution_count": 59,
   "metadata": {},
   "outputs": [],
   "source": [
    "regions_list = []\n",
    "index_list = [-2,-1]\n",
    "\n",
    "for index, rows in tweets_classified_US['User_Location'].iteritems():\n",
    "    for key, value in region_dict.items():\n",
    "        for i in value:\n",
    "            if i in rows:\n",
    "                index_list.append(index)\n",
    "                if index_list[-1] != index_list[-2]: # prevents duplicates, as User_Location sometimes lists multiple locations\n",
    "                    regions_list.append([index, key])\n",
    "                    break"
   ]
  },
  {
   "cell_type": "code",
   "execution_count": 60,
   "metadata": {},
   "outputs": [
    {
     "data": {
      "text/plain": [
       "1235350"
      ]
     },
     "execution_count": 60,
     "metadata": {},
     "output_type": "execute_result"
    }
   ],
   "source": [
    "len(regions_list)"
   ]
  },
  {
   "cell_type": "markdown",
   "metadata": {},
   "source": [
    "## Insert \"User_Region\" column into `tweets_classified_US`"
   ]
  },
  {
   "cell_type": "code",
   "execution_count": 66,
   "metadata": {},
   "outputs": [],
   "source": [
    "regions_ind = [ind[0] for ind in regions_list]\n",
    "regions_loc = [loc[1] for loc in regions_list]\n",
    "regions_series = pd.Series(regions_loc, index = regions_ind)"
   ]
  },
  {
   "cell_type": "code",
   "execution_count": 30,
   "metadata": {},
   "outputs": [
    {
     "data": {
      "text/plain": [
       "0           Northeast\n",
       "2          West Coast\n",
       "3               South\n",
       "6          West Coast\n",
       "9             Rockies\n",
       "              ...    \n",
       "4225391       Rockies\n",
       "4225394     Northeast\n",
       "4225399            US\n",
       "4225406     Northeast\n",
       "4225408       Rockies\n",
       "Length: 1235350, dtype: object"
      ]
     },
     "execution_count": 30,
     "metadata": {},
     "output_type": "execute_result"
    }
   ],
   "source": [
    "regions_series"
   ]
  },
  {
   "cell_type": "code",
   "execution_count": 71,
   "metadata": {},
   "outputs": [],
   "source": [
    "tweets_classified_US.insert(20, column = 'User_Region', value = regions_series)"
   ]
  },
  {
   "cell_type": "code",
   "execution_count": 72,
   "metadata": {},
   "outputs": [
    {
     "data": {
      "text/html": [
       "<div>\n",
       "<style scoped>\n",
       "    .dataframe tbody tr th:only-of-type {\n",
       "        vertical-align: middle;\n",
       "    }\n",
       "\n",
       "    .dataframe tbody tr th {\n",
       "        vertical-align: top;\n",
       "    }\n",
       "\n",
       "    .dataframe thead th {\n",
       "        text-align: right;\n",
       "    }\n",
       "</style>\n",
       "<table border=\"1\" class=\"dataframe\">\n",
       "  <thead>\n",
       "    <tr style=\"text-align: right;\">\n",
       "      <th></th>\n",
       "      <th>created_at</th>\n",
       "      <th>Month</th>\n",
       "      <th>Year</th>\n",
       "      <th>favorite_count</th>\n",
       "      <th>Believer_or_Denier</th>\n",
       "      <th>Tweet_Sentiment</th>\n",
       "      <th>preprocessed_text</th>\n",
       "      <th>full_text</th>\n",
       "      <th>geo</th>\n",
       "      <th>retweet_count</th>\n",
       "      <th>Hashtags_List</th>\n",
       "      <th>User_Name</th>\n",
       "      <th>User_Screen_Name</th>\n",
       "      <th>User_Status_Count</th>\n",
       "      <th>User_Followers_Count</th>\n",
       "      <th>User_Friends_Count</th>\n",
       "      <th>User_Verified_Status</th>\n",
       "      <th>User_Account_Start_Date</th>\n",
       "      <th>User_Years_Active</th>\n",
       "      <th>User_Location</th>\n",
       "      <th>User_Region</th>\n",
       "      <th>Tweet_Location</th>\n",
       "      <th>Tweet_Location_Country</th>\n",
       "      <th>Tweet_Location_Country_Code</th>\n",
       "      <th>Merge_Index</th>\n",
       "      <th>US_or_Other</th>\n",
       "    </tr>\n",
       "  </thead>\n",
       "  <tbody>\n",
       "    <tr>\n",
       "      <th>0</th>\n",
       "      <td>2017-09-21</td>\n",
       "      <td>9</td>\n",
       "      <td>2017</td>\n",
       "      <td>0</td>\n",
       "      <td>0.0</td>\n",
       "      <td>neutral</td>\n",
       "      <td>[all, hurricane, victims, should, sue, trump, ...</td>\n",
       "      <td>All #Hurricane victims should sue #Trump, #Pru...</td>\n",
       "      <td>NaN</td>\n",
       "      <td>0</td>\n",
       "      <td>[hurricane, trump, pruitt, fossilfuel, climate...</td>\n",
       "      <td>Soledad Haren</td>\n",
       "      <td>Soledad_Haren</td>\n",
       "      <td>11511</td>\n",
       "      <td>317</td>\n",
       "      <td>260</td>\n",
       "      <td>False</td>\n",
       "      <td>2008-11-16</td>\n",
       "      <td>8.8</td>\n",
       "      <td>New York, LA, Miami, Houston</td>\n",
       "      <td>Northeast</td>\n",
       "      <td>NaN</td>\n",
       "      <td>NaN</td>\n",
       "      <td>NaN</td>\n",
       "      <td>0</td>\n",
       "      <td>US</td>\n",
       "    </tr>\n",
       "    <tr>\n",
       "      <th>3</th>\n",
       "      <td>2017-09-21</td>\n",
       "      <td>9</td>\n",
       "      <td>2017</td>\n",
       "      <td>0</td>\n",
       "      <td>1.0</td>\n",
       "      <td>neutral</td>\n",
       "      <td>[san, francisco, sues, oil, companies, over, c...</td>\n",
       "      <td>San Francisco sues oil companies over #climate...</td>\n",
       "      <td>NaN</td>\n",
       "      <td>0</td>\n",
       "      <td>[climate]</td>\n",
       "      <td>A&amp;R Solar</td>\n",
       "      <td>aandrsolar</td>\n",
       "      <td>3088</td>\n",
       "      <td>975</td>\n",
       "      <td>744</td>\n",
       "      <td>False</td>\n",
       "      <td>2010-07-01</td>\n",
       "      <td>7.2</td>\n",
       "      <td>Seattle, WA</td>\n",
       "      <td>West Coast</td>\n",
       "      <td>NaN</td>\n",
       "      <td>NaN</td>\n",
       "      <td>NaN</td>\n",
       "      <td>3</td>\n",
       "      <td>US</td>\n",
       "    </tr>\n",
       "    <tr>\n",
       "      <th>6</th>\n",
       "      <td>2017-09-21</td>\n",
       "      <td>9</td>\n",
       "      <td>2017</td>\n",
       "      <td>0</td>\n",
       "      <td>0.0</td>\n",
       "      <td>negative</td>\n",
       "      <td>[is, the, hurricane, season, worse, than, usua...</td>\n",
       "      <td>Is the 2017 #hurricane season worse than usual...</td>\n",
       "      <td>NaN</td>\n",
       "      <td>0</td>\n",
       "      <td>[hurricane, climatechange, weather, environmen...</td>\n",
       "      <td>YouthBuild USA Green</td>\n",
       "      <td>YB_Green</td>\n",
       "      <td>2471</td>\n",
       "      <td>882</td>\n",
       "      <td>1042</td>\n",
       "      <td>False</td>\n",
       "      <td>2010-12-15</td>\n",
       "      <td>6.8</td>\n",
       "      <td>Somerville, MA</td>\n",
       "      <td>Northeast</td>\n",
       "      <td>NaN</td>\n",
       "      <td>NaN</td>\n",
       "      <td>NaN</td>\n",
       "      <td>6</td>\n",
       "      <td>US</td>\n",
       "    </tr>\n",
       "    <tr>\n",
       "      <th>9</th>\n",
       "      <td>2017-09-21</td>\n",
       "      <td>9</td>\n",
       "      <td>2017</td>\n",
       "      <td>0</td>\n",
       "      <td>0.0</td>\n",
       "      <td>positive</td>\n",
       "      <td>[trudeau, is, transitioning, to, climate, chan...</td>\n",
       "      <td>Trudeau is transitioning to climate change dis...</td>\n",
       "      <td>NaN</td>\n",
       "      <td>1</td>\n",
       "      <td>[unga, j711]</td>\n",
       "      <td>brad schaible</td>\n",
       "      <td>gobrado</td>\n",
       "      <td>167</td>\n",
       "      <td>60</td>\n",
       "      <td>194</td>\n",
       "      <td>False</td>\n",
       "      <td>2012-07-01</td>\n",
       "      <td>5.2</td>\n",
       "      <td>Cary, NC</td>\n",
       "      <td>South</td>\n",
       "      <td>NaN</td>\n",
       "      <td>NaN</td>\n",
       "      <td>NaN</td>\n",
       "      <td>9</td>\n",
       "      <td>US</td>\n",
       "    </tr>\n",
       "    <tr>\n",
       "      <th>17</th>\n",
       "      <td>2017-09-21</td>\n",
       "      <td>9</td>\n",
       "      <td>2017</td>\n",
       "      <td>1</td>\n",
       "      <td>0.0</td>\n",
       "      <td>neutral</td>\n",
       "      <td>[these, vermont, based, companies, want, to, c...</td>\n",
       "      <td>These Vermont-based companies want to conquer ...</td>\n",
       "      <td>NaN</td>\n",
       "      <td>3</td>\n",
       "      <td>[]</td>\n",
       "      <td>Seven Days</td>\n",
       "      <td>sevendaysvt</td>\n",
       "      <td>30670</td>\n",
       "      <td>49806</td>\n",
       "      <td>1913</td>\n",
       "      <td>True</td>\n",
       "      <td>2007-06-05</td>\n",
       "      <td>10.3</td>\n",
       "      <td>Burlington, Vermont</td>\n",
       "      <td>Northeast</td>\n",
       "      <td>NaN</td>\n",
       "      <td>NaN</td>\n",
       "      <td>NaN</td>\n",
       "      <td>17</td>\n",
       "      <td>US</td>\n",
       "    </tr>\n",
       "    <tr>\n",
       "      <th>...</th>\n",
       "      <td>...</td>\n",
       "      <td>...</td>\n",
       "      <td>...</td>\n",
       "      <td>...</td>\n",
       "      <td>...</td>\n",
       "      <td>...</td>\n",
       "      <td>...</td>\n",
       "      <td>...</td>\n",
       "      <td>...</td>\n",
       "      <td>...</td>\n",
       "      <td>...</td>\n",
       "      <td>...</td>\n",
       "      <td>...</td>\n",
       "      <td>...</td>\n",
       "      <td>...</td>\n",
       "      <td>...</td>\n",
       "      <td>...</td>\n",
       "      <td>...</td>\n",
       "      <td>...</td>\n",
       "      <td>...</td>\n",
       "      <td>...</td>\n",
       "      <td>...</td>\n",
       "      <td>...</td>\n",
       "      <td>...</td>\n",
       "      <td>...</td>\n",
       "      <td>...</td>\n",
       "    </tr>\n",
       "    <tr>\n",
       "      <th>4225408</th>\n",
       "      <td>2019-05-19</td>\n",
       "      <td>5</td>\n",
       "      <td>2019</td>\n",
       "      <td>0</td>\n",
       "      <td>0.0</td>\n",
       "      <td>positive</td>\n",
       "      <td>[the, latest, yhwh, holy, scriptures, thanks, ...</td>\n",
       "      <td>The latest YHWH HOLY SCRIPTURES! https://t.co/...</td>\n",
       "      <td>NaN</td>\n",
       "      <td>0</td>\n",
       "      <td>[environment, climatechange]</td>\n",
       "      <td>CarrieGaard</td>\n",
       "      <td>CarrieGaard</td>\n",
       "      <td>93556</td>\n",
       "      <td>1157</td>\n",
       "      <td>176</td>\n",
       "      <td>False</td>\n",
       "      <td>2009-06-21</td>\n",
       "      <td>9.9</td>\n",
       "      <td>��GL��BAL��</td>\n",
       "      <td>South</td>\n",
       "      <td>NaN</td>\n",
       "      <td>NaN</td>\n",
       "      <td>NaN</td>\n",
       "      <td>4225408</td>\n",
       "      <td>US</td>\n",
       "    </tr>\n",
       "    <tr>\n",
       "      <th>4225409</th>\n",
       "      <td>2019-05-19</td>\n",
       "      <td>5</td>\n",
       "      <td>2019</td>\n",
       "      <td>0</td>\n",
       "      <td>0.0</td>\n",
       "      <td>neutral</td>\n",
       "      <td>[all, left]</td>\n",
       "      <td>All 800 left. https://t.co/Dr5aROHJzb</td>\n",
       "      <td>NaN</td>\n",
       "      <td>0</td>\n",
       "      <td>[]</td>\n",
       "      <td>Simarilian</td>\n",
       "      <td>simarilian</td>\n",
       "      <td>75770</td>\n",
       "      <td>1137</td>\n",
       "      <td>1983</td>\n",
       "      <td>False</td>\n",
       "      <td>2008-08-27</td>\n",
       "      <td>10.7</td>\n",
       "      <td>Oregon</td>\n",
       "      <td>West Coast</td>\n",
       "      <td>NaN</td>\n",
       "      <td>NaN</td>\n",
       "      <td>NaN</td>\n",
       "      <td>4225409</td>\n",
       "      <td>US</td>\n",
       "    </tr>\n",
       "    <tr>\n",
       "      <th>4225410</th>\n",
       "      <td>2019-05-19</td>\n",
       "      <td>5</td>\n",
       "      <td>2019</td>\n",
       "      <td>1</td>\n",
       "      <td>0.0</td>\n",
       "      <td>positive</td>\n",
       "      <td>[look, at, this, clever, animation, showing, t...</td>\n",
       "      <td>Look at this clever animation, showing the tem...</td>\n",
       "      <td>NaN</td>\n",
       "      <td>0</td>\n",
       "      <td>[]</td>\n",
       "      <td>Claudio Alatorre</td>\n",
       "      <td>ClaudioAlatorre</td>\n",
       "      <td>10</td>\n",
       "      <td>86</td>\n",
       "      <td>41</td>\n",
       "      <td>False</td>\n",
       "      <td>2011-12-10</td>\n",
       "      <td>7.4</td>\n",
       "      <td>Washington, DC</td>\n",
       "      <td>Northeast</td>\n",
       "      <td>NaN</td>\n",
       "      <td>NaN</td>\n",
       "      <td>NaN</td>\n",
       "      <td>4225410</td>\n",
       "      <td>US</td>\n",
       "    </tr>\n",
       "    <tr>\n",
       "      <th>4225411</th>\n",
       "      <td>2019-05-19</td>\n",
       "      <td>5</td>\n",
       "      <td>2019</td>\n",
       "      <td>2</td>\n",
       "      <td>0.0</td>\n",
       "      <td>positive</td>\n",
       "      <td>[climate, change, why, the, australian, labor,...</td>\n",
       "      <td>Climate Change: Why The Australian Labor Party...</td>\n",
       "      <td>NaN</td>\n",
       "      <td>3</td>\n",
       "      <td>[]</td>\n",
       "      <td>Iowa Climate ����</td>\n",
       "      <td>IowaClimate</td>\n",
       "      <td>36554</td>\n",
       "      <td>1726</td>\n",
       "      <td>1250</td>\n",
       "      <td>False</td>\n",
       "      <td>2016-12-30</td>\n",
       "      <td>2.4</td>\n",
       "      <td>Iowa, USA</td>\n",
       "      <td>Midwest</td>\n",
       "      <td>NaN</td>\n",
       "      <td>NaN</td>\n",
       "      <td>NaN</td>\n",
       "      <td>4225411</td>\n",
       "      <td>US</td>\n",
       "    </tr>\n",
       "    <tr>\n",
       "      <th>4225414</th>\n",
       "      <td>2019-05-19</td>\n",
       "      <td>5</td>\n",
       "      <td>2019</td>\n",
       "      <td>0</td>\n",
       "      <td>0.0</td>\n",
       "      <td>neutral</td>\n",
       "      <td>[some, of, you, are, going, to, say, climate, ...</td>\n",
       "      <td>Some of you are going to say climate change bu...</td>\n",
       "      <td>NaN</td>\n",
       "      <td>0</td>\n",
       "      <td>[]</td>\n",
       "      <td>whiteflags</td>\n",
       "      <td>wf_tweets</td>\n",
       "      <td>5904</td>\n",
       "      <td>35</td>\n",
       "      <td>104</td>\n",
       "      <td>False</td>\n",
       "      <td>2013-09-06</td>\n",
       "      <td>5.7</td>\n",
       "      <td>Michigan, USA</td>\n",
       "      <td>Midwest</td>\n",
       "      <td>NaN</td>\n",
       "      <td>NaN</td>\n",
       "      <td>NaN</td>\n",
       "      <td>4225414</td>\n",
       "      <td>US</td>\n",
       "    </tr>\n",
       "  </tbody>\n",
       "</table>\n",
       "<p>1235350 rows × 26 columns</p>\n",
       "</div>"
      ],
      "text/plain": [
       "        created_at  Month  Year  favorite_count  Believer_or_Denier  \\\n",
       "0       2017-09-21      9  2017               0                 0.0   \n",
       "3       2017-09-21      9  2017               0                 1.0   \n",
       "6       2017-09-21      9  2017               0                 0.0   \n",
       "9       2017-09-21      9  2017               0                 0.0   \n",
       "17      2017-09-21      9  2017               1                 0.0   \n",
       "...            ...    ...   ...             ...                 ...   \n",
       "4225408 2019-05-19      5  2019               0                 0.0   \n",
       "4225409 2019-05-19      5  2019               0                 0.0   \n",
       "4225410 2019-05-19      5  2019               1                 0.0   \n",
       "4225411 2019-05-19      5  2019               2                 0.0   \n",
       "4225414 2019-05-19      5  2019               0                 0.0   \n",
       "\n",
       "        Tweet_Sentiment                                  preprocessed_text  \\\n",
       "0               neutral  [all, hurricane, victims, should, sue, trump, ...   \n",
       "3               neutral  [san, francisco, sues, oil, companies, over, c...   \n",
       "6              negative  [is, the, hurricane, season, worse, than, usua...   \n",
       "9              positive  [trudeau, is, transitioning, to, climate, chan...   \n",
       "17              neutral  [these, vermont, based, companies, want, to, c...   \n",
       "...                 ...                                                ...   \n",
       "4225408        positive  [the, latest, yhwh, holy, scriptures, thanks, ...   \n",
       "4225409         neutral                                        [all, left]   \n",
       "4225410        positive  [look, at, this, clever, animation, showing, t...   \n",
       "4225411        positive  [climate, change, why, the, australian, labor,...   \n",
       "4225414         neutral  [some, of, you, are, going, to, say, climate, ...   \n",
       "\n",
       "                                                 full_text  geo  \\\n",
       "0        All #Hurricane victims should sue #Trump, #Pru...  NaN   \n",
       "3        San Francisco sues oil companies over #climate...  NaN   \n",
       "6        Is the 2017 #hurricane season worse than usual...  NaN   \n",
       "9        Trudeau is transitioning to climate change dis...  NaN   \n",
       "17       These Vermont-based companies want to conquer ...  NaN   \n",
       "...                                                    ...  ...   \n",
       "4225408  The latest YHWH HOLY SCRIPTURES! https://t.co/...  NaN   \n",
       "4225409              All 800 left. https://t.co/Dr5aROHJzb  NaN   \n",
       "4225410  Look at this clever animation, showing the tem...  NaN   \n",
       "4225411  Climate Change: Why The Australian Labor Party...  NaN   \n",
       "4225414  Some of you are going to say climate change bu...  NaN   \n",
       "\n",
       "         retweet_count                                      Hashtags_List  \\\n",
       "0                    0  [hurricane, trump, pruitt, fossilfuel, climate...   \n",
       "3                    0                                          [climate]   \n",
       "6                    0  [hurricane, climatechange, weather, environmen...   \n",
       "9                    1                                       [unga, j711]   \n",
       "17                   3                                                 []   \n",
       "...                ...                                                ...   \n",
       "4225408              0                       [environment, climatechange]   \n",
       "4225409              0                                                 []   \n",
       "4225410              0                                                 []   \n",
       "4225411              3                                                 []   \n",
       "4225414              0                                                 []   \n",
       "\n",
       "                    User_Name User_Screen_Name  User_Status_Count  \\\n",
       "0               Soledad Haren    Soledad_Haren              11511   \n",
       "3                   A&R Solar       aandrsolar               3088   \n",
       "6        YouthBuild USA Green         YB_Green               2471   \n",
       "9               brad schaible          gobrado                167   \n",
       "17                 Seven Days      sevendaysvt              30670   \n",
       "...                       ...              ...                ...   \n",
       "4225408           CarrieGaard      CarrieGaard              93556   \n",
       "4225409            Simarilian       simarilian              75770   \n",
       "4225410      Claudio Alatorre  ClaudioAlatorre                 10   \n",
       "4225411     Iowa Climate ����      IowaClimate              36554   \n",
       "4225414            whiteflags        wf_tweets               5904   \n",
       "\n",
       "         User_Followers_Count  User_Friends_Count  User_Verified_Status  \\\n",
       "0                         317                 260                 False   \n",
       "3                         975                 744                 False   \n",
       "6                         882                1042                 False   \n",
       "9                          60                 194                 False   \n",
       "17                      49806                1913                  True   \n",
       "...                       ...                 ...                   ...   \n",
       "4225408                  1157                 176                 False   \n",
       "4225409                  1137                1983                 False   \n",
       "4225410                    86                  41                 False   \n",
       "4225411                  1726                1250                 False   \n",
       "4225414                    35                 104                 False   \n",
       "\n",
       "        User_Account_Start_Date  User_Years_Active  \\\n",
       "0                    2008-11-16                8.8   \n",
       "3                    2010-07-01                7.2   \n",
       "6                    2010-12-15                6.8   \n",
       "9                    2012-07-01                5.2   \n",
       "17                   2007-06-05               10.3   \n",
       "...                         ...                ...   \n",
       "4225408              2009-06-21                9.9   \n",
       "4225409              2008-08-27               10.7   \n",
       "4225410              2011-12-10                7.4   \n",
       "4225411              2016-12-30                2.4   \n",
       "4225414              2013-09-06                5.7   \n",
       "\n",
       "                        User_Location User_Region Tweet_Location  \\\n",
       "0        New York, LA, Miami, Houston   Northeast            NaN   \n",
       "3                         Seattle, WA  West Coast            NaN   \n",
       "6                      Somerville, MA   Northeast            NaN   \n",
       "9                            Cary, NC       South            NaN   \n",
       "17                Burlington, Vermont   Northeast            NaN   \n",
       "...                               ...         ...            ...   \n",
       "4225408                   ��GL��BAL��       South            NaN   \n",
       "4225409                        Oregon  West Coast            NaN   \n",
       "4225410                Washington, DC   Northeast            NaN   \n",
       "4225411                     Iowa, USA     Midwest            NaN   \n",
       "4225414                 Michigan, USA     Midwest            NaN   \n",
       "\n",
       "        Tweet_Location_Country Tweet_Location_Country_Code  Merge_Index  \\\n",
       "0                          NaN                         NaN            0   \n",
       "3                          NaN                         NaN            3   \n",
       "6                          NaN                         NaN            6   \n",
       "9                          NaN                         NaN            9   \n",
       "17                         NaN                         NaN           17   \n",
       "...                        ...                         ...          ...   \n",
       "4225408                    NaN                         NaN      4225408   \n",
       "4225409                    NaN                         NaN      4225409   \n",
       "4225410                    NaN                         NaN      4225410   \n",
       "4225411                    NaN                         NaN      4225411   \n",
       "4225414                    NaN                         NaN      4225414   \n",
       "\n",
       "        US_or_Other  \n",
       "0                US  \n",
       "3                US  \n",
       "6                US  \n",
       "9                US  \n",
       "17               US  \n",
       "...             ...  \n",
       "4225408          US  \n",
       "4225409          US  \n",
       "4225410          US  \n",
       "4225411          US  \n",
       "4225414          US  \n",
       "\n",
       "[1235350 rows x 26 columns]"
      ]
     },
     "execution_count": 72,
     "metadata": {},
     "output_type": "execute_result"
    }
   ],
   "source": [
    "tweets_classified_US"
   ]
  },
  {
   "cell_type": "code",
   "execution_count": 75,
   "metadata": {},
   "outputs": [],
   "source": [
    "# with open('Data/tweets_classified_US_region.pkl', 'wb') as to_write:\n",
    "#     pickle.dump(tweets_classified_US, to_write)"
   ]
  },
  {
   "cell_type": "markdown",
   "metadata": {},
   "source": [
    "# Dig into Data"
   ]
  },
  {
   "cell_type": "markdown",
   "metadata": {},
   "source": [
    "## Number of Believer/Denier Tweets by Region"
   ]
  },
  {
   "cell_type": "code",
   "execution_count": 73,
   "metadata": {},
   "outputs": [],
   "source": [
    "tweets_classified_region = tweets_classified_US.groupby('Believer_or_Denier')['User_Region'].value_counts()"
   ]
  },
  {
   "cell_type": "code",
   "execution_count": 74,
   "metadata": {},
   "outputs": [
    {
     "data": {
      "text/plain": [
       "Believer_or_Denier  User_Region\n",
       "0.0                 Northeast      346780\n",
       "                    West Coast     211587\n",
       "                    South          193616\n",
       "                    Midwest        134864\n",
       "                    US             109221\n",
       "                    Rockies         55625\n",
       "                    Southwest       24957\n",
       "                    Hawaii           5181\n",
       "                    Alaska           3582\n",
       "1.0                 South           37237\n",
       "                    Northeast       31710\n",
       "                    US              24384\n",
       "                    West Coast      24036\n",
       "                    Midwest         20109\n",
       "                    Rockies          7391\n",
       "                    Southwest        4064\n",
       "                    Hawaii            519\n",
       "                    Alaska            487\n",
       "Name: User_Region, dtype: int64"
      ]
     },
     "execution_count": 74,
     "metadata": {},
     "output_type": "execute_result"
    }
   ],
   "source": [
    "tweets_classified_region"
   ]
  },
  {
   "cell_type": "markdown",
   "metadata": {},
   "source": [
    "## User Believer/Denier Consistency"
   ]
  },
  {
   "cell_type": "code",
   "execution_count": 76,
   "metadata": {},
   "outputs": [],
   "source": [
    "tweets_classified_user_const = tweets_classified_US.groupby(['User_Name', 'User_Region']).agg({'full_text':'count', 'Believer_or_Denier': 'sum'}).reset_index()\n",
    "tweets_classified_user_const['consistency'] = tweets_classified_user_const['Believer_or_Denier']/tweets_classified_user_const['full_text']"
   ]
  },
  {
   "cell_type": "code",
   "execution_count": 93,
   "metadata": {},
   "outputs": [
    {
     "data": {
      "text/html": [
       "<div>\n",
       "<style scoped>\n",
       "    .dataframe tbody tr th:only-of-type {\n",
       "        vertical-align: middle;\n",
       "    }\n",
       "\n",
       "    .dataframe tbody tr th {\n",
       "        vertical-align: top;\n",
       "    }\n",
       "\n",
       "    .dataframe thead th {\n",
       "        text-align: right;\n",
       "    }\n",
       "</style>\n",
       "<table border=\"1\" class=\"dataframe\">\n",
       "  <thead>\n",
       "    <tr style=\"text-align: right;\">\n",
       "      <th></th>\n",
       "      <th>User_Name</th>\n",
       "      <th>User_Region</th>\n",
       "      <th>full_text</th>\n",
       "      <th>Believer_or_Denier</th>\n",
       "      <th>consistency</th>\n",
       "    </tr>\n",
       "  </thead>\n",
       "  <tbody>\n",
       "    <tr>\n",
       "      <th>0</th>\n",
       "      <td></td>\n",
       "      <td>Southwest</td>\n",
       "      <td>2</td>\n",
       "      <td>2.0</td>\n",
       "      <td>1.000</td>\n",
       "    </tr>\n",
       "    <tr>\n",
       "      <th>1</th>\n",
       "      <td>Corona</td>\n",
       "      <td>Northeast</td>\n",
       "      <td>1</td>\n",
       "      <td>0.0</td>\n",
       "      <td>0.000</td>\n",
       "    </tr>\n",
       "    <tr>\n",
       "      <th>2</th>\n",
       "      <td>Watcher Underground</td>\n",
       "      <td>Midwest</td>\n",
       "      <td>5</td>\n",
       "      <td>2.0</td>\n",
       "      <td>0.400</td>\n",
       "    </tr>\n",
       "    <tr>\n",
       "      <th>3</th>\n",
       "      <td>ozzie Johnson</td>\n",
       "      <td>Midwest</td>\n",
       "      <td>1</td>\n",
       "      <td>0.0</td>\n",
       "      <td>0.000</td>\n",
       "    </tr>\n",
       "    <tr>\n",
       "      <th>4</th>\n",
       "      <td>!</td>\n",
       "      <td>Midwest</td>\n",
       "      <td>1</td>\n",
       "      <td>0.0</td>\n",
       "      <td>0.000</td>\n",
       "    </tr>\n",
       "    <tr>\n",
       "      <th>5</th>\n",
       "      <td>!</td>\n",
       "      <td>Northeast</td>\n",
       "      <td>1</td>\n",
       "      <td>0.0</td>\n",
       "      <td>0.000</td>\n",
       "    </tr>\n",
       "    <tr>\n",
       "      <th>6</th>\n",
       "      <td>!</td>\n",
       "      <td>Southwest</td>\n",
       "      <td>1</td>\n",
       "      <td>0.0</td>\n",
       "      <td>0.000</td>\n",
       "    </tr>\n",
       "    <tr>\n",
       "      <th>7</th>\n",
       "      <td>! deactivated</td>\n",
       "      <td>Northeast</td>\n",
       "      <td>2</td>\n",
       "      <td>0.0</td>\n",
       "      <td>0.000</td>\n",
       "    </tr>\n",
       "    <tr>\n",
       "      <th>8</th>\n",
       "      <td>! jacqueline !</td>\n",
       "      <td>South</td>\n",
       "      <td>1</td>\n",
       "      <td>0.0</td>\n",
       "      <td>0.000</td>\n",
       "    </tr>\n",
       "    <tr>\n",
       "      <th>9</th>\n",
       "      <td>! xzaVier ¡</td>\n",
       "      <td>Midwest</td>\n",
       "      <td>1</td>\n",
       "      <td>1.0</td>\n",
       "      <td>1.000</td>\n",
       "    </tr>\n",
       "    <tr>\n",
       "      <th>10</th>\n",
       "      <td>!!! Jawafied !!!</td>\n",
       "      <td>South</td>\n",
       "      <td>1</td>\n",
       "      <td>0.0</td>\n",
       "      <td>0.000</td>\n",
       "    </tr>\n",
       "    <tr>\n",
       "      <th>11</th>\n",
       "      <td>!!������DIANA��������‍♀️��‍��</td>\n",
       "      <td>South</td>\n",
       "      <td>7</td>\n",
       "      <td>5.0</td>\n",
       "      <td>0.714</td>\n",
       "    </tr>\n",
       "    <tr>\n",
       "      <th>12</th>\n",
       "      <td>!MEOWEYEOWA!</td>\n",
       "      <td>Midwest</td>\n",
       "      <td>1</td>\n",
       "      <td>0.0</td>\n",
       "      <td>0.000</td>\n",
       "    </tr>\n",
       "    <tr>\n",
       "      <th>13</th>\n",
       "      <td>!Sis!</td>\n",
       "      <td>Midwest</td>\n",
       "      <td>4</td>\n",
       "      <td>0.0</td>\n",
       "      <td>0.000</td>\n",
       "    </tr>\n",
       "    <tr>\n",
       "      <th>14</th>\n",
       "      <td>!^?@!~</td>\n",
       "      <td>South</td>\n",
       "      <td>4</td>\n",
       "      <td>0.0</td>\n",
       "      <td>0.000</td>\n",
       "    </tr>\n",
       "    <tr>\n",
       "      <th>15</th>\n",
       "      <td>!_sehar_C_!</td>\n",
       "      <td>Northeast</td>\n",
       "      <td>1</td>\n",
       "      <td>0.0</td>\n",
       "      <td>0.000</td>\n",
       "    </tr>\n",
       "    <tr>\n",
       "      <th>16</th>\n",
       "      <td>!nTr0ciTy</td>\n",
       "      <td>South</td>\n",
       "      <td>1</td>\n",
       "      <td>0.0</td>\n",
       "      <td>0.000</td>\n",
       "    </tr>\n",
       "    <tr>\n",
       "      <th>17</th>\n",
       "      <td>!nto!erantSou!����</td>\n",
       "      <td>Northeast</td>\n",
       "      <td>1</td>\n",
       "      <td>0.0</td>\n",
       "      <td>0.000</td>\n",
       "    </tr>\n",
       "    <tr>\n",
       "      <th>18</th>\n",
       "      <td>!sabella</td>\n",
       "      <td>Northeast</td>\n",
       "      <td>1</td>\n",
       "      <td>0.0</td>\n",
       "      <td>0.000</td>\n",
       "    </tr>\n",
       "    <tr>\n",
       "      <th>19</th>\n",
       "      <td>!ts Br!tney B!tch™️</td>\n",
       "      <td>Northeast</td>\n",
       "      <td>1</td>\n",
       "      <td>0.0</td>\n",
       "      <td>0.000</td>\n",
       "    </tr>\n",
       "  </tbody>\n",
       "</table>\n",
       "</div>"
      ],
      "text/plain": [
       "                        User_Name User_Region  full_text  Believer_or_Denier  \\\n",
       "0                                   Southwest          2                 2.0   \n",
       "1                          Corona   Northeast          1                 0.0   \n",
       "2             Watcher Underground     Midwest          5                 2.0   \n",
       "3                   ozzie Johnson     Midwest          1                 0.0   \n",
       "4                               !     Midwest          1                 0.0   \n",
       "5                               !   Northeast          1                 0.0   \n",
       "6                               !   Southwest          1                 0.0   \n",
       "7                   ! deactivated   Northeast          2                 0.0   \n",
       "8                  ! jacqueline !       South          1                 0.0   \n",
       "9                     ! xzaVier ¡     Midwest          1                 1.0   \n",
       "10               !!! Jawafied !!!       South          1                 0.0   \n",
       "11  !!������DIANA��������‍♀️��‍��       South          7                 5.0   \n",
       "12                   !MEOWEYEOWA!     Midwest          1                 0.0   \n",
       "13                          !Sis!     Midwest          4                 0.0   \n",
       "14                         !^?@!~       South          4                 0.0   \n",
       "15                    !_sehar_C_!   Northeast          1                 0.0   \n",
       "16                      !nTr0ciTy       South          1                 0.0   \n",
       "17             !nto!erantSou!����   Northeast          1                 0.0   \n",
       "18                       !sabella   Northeast          1                 0.0   \n",
       "19            !ts Br!tney B!tch™️   Northeast          1                 0.0   \n",
       "\n",
       "    consistency  \n",
       "0         1.000  \n",
       "1         0.000  \n",
       "2         0.400  \n",
       "3         0.000  \n",
       "4         0.000  \n",
       "5         0.000  \n",
       "6         0.000  \n",
       "7         0.000  \n",
       "8         0.000  \n",
       "9         1.000  \n",
       "10        0.000  \n",
       "11        0.714  \n",
       "12        0.000  \n",
       "13        0.000  \n",
       "14        0.000  \n",
       "15        0.000  \n",
       "16        0.000  \n",
       "17        0.000  \n",
       "18        0.000  \n",
       "19        0.000  "
      ]
     },
     "execution_count": 93,
     "metadata": {},
     "output_type": "execute_result"
    }
   ],
   "source": [
    "tweets_classified_user_const.head(20)"
   ]
  },
  {
   "cell_type": "code",
   "execution_count": 138,
   "metadata": {},
   "outputs": [
    {
     "data": {
      "text/plain": [
       "(array([287357.,   4906.,   6623.,   6110.,   1877.,  12725.,   2775.,\n",
       "          1216.,    778.,  31414.]),\n",
       " array([0. , 0.1, 0.2, 0.3, 0.4, 0.5, 0.6, 0.7, 0.8, 0.9, 1. ]),\n",
       " <a list of 10 Patch objects>)"
      ]
     },
     "execution_count": 138,
     "metadata": {},
     "output_type": "execute_result"
    },
    {
     "data": {
      "image/png": "[encoded data removed]",
      "text/plain": [
       "<Figure size 432x288 with 1 Axes>"
      ]
     },
     "metadata": {
      "needs_background": "light"
     },
     "output_type": "display_data"
    }
   ],
   "source": [
    "plt.hist(tweets_classified_user_const.consistency.values)"
   ]
  },
  {
   "cell_type": "markdown",
   "metadata": {},
   "source": [
    "### Total Number of Believer vs Denier Users"
   ]
  },
  {
   "cell_type": "code",
   "execution_count": 96,
   "metadata": {},
   "outputs": [],
   "source": [
    "num_believers = len(tweets_classified_user_const[tweets_classified_user_const.consistency < 0.5])\n",
    "num_deniers = len(tweets_classified_user_const[tweets_classified_user_const.consistency >= 0.5])"
   ]
  },
  {
   "cell_type": "code",
   "execution_count": 100,
   "metadata": {},
   "outputs": [
    {
     "name": "stdout",
     "output_type": "stream",
     "text": [
      "Number of believer users: 306873\n",
      "Number of denier users: 48908\n",
      "Percent denier users: 13.7 %\n"
     ]
    }
   ],
   "source": [
    "print('Number of believer users:', num_believers)\n",
    "print('Number of denier users:', num_deniers)\n",
    "print('Percent denier users:', round(100*num_deniers/(num_believers + num_deniers), 1), '%')"
   ]
  },
  {
   "cell_type": "markdown",
   "metadata": {},
   "source": [
    "## Number of Users by Region"
   ]
  },
  {
   "cell_type": "markdown",
   "metadata": {},
   "source": [
    "### Total by Region"
   ]
  },
  {
   "cell_type": "code",
   "execution_count": 103,
   "metadata": {},
   "outputs": [],
   "source": [
    "tweets_classified_user_believers = tweets_classified_user_const.groupby('User_Region').agg({'User_Name':'count'}).reset_index()"
   ]
  },
  {
   "cell_type": "code",
   "execution_count": 104,
   "metadata": {},
   "outputs": [
    {
     "data": {
      "text/html": [
       "<div>\n",
       "<style scoped>\n",
       "    .dataframe tbody tr th:only-of-type {\n",
       "        vertical-align: middle;\n",
       "    }\n",
       "\n",
       "    .dataframe tbody tr th {\n",
       "        vertical-align: top;\n",
       "    }\n",
       "\n",
       "    .dataframe thead th {\n",
       "        text-align: right;\n",
       "    }\n",
       "</style>\n",
       "<table border=\"1\" class=\"dataframe\">\n",
       "  <thead>\n",
       "    <tr style=\"text-align: right;\">\n",
       "      <th></th>\n",
       "      <th>User_Region</th>\n",
       "      <th>User_Name</th>\n",
       "    </tr>\n",
       "  </thead>\n",
       "  <tbody>\n",
       "    <tr>\n",
       "      <th>0</th>\n",
       "      <td>Alaska</td>\n",
       "      <td>1219</td>\n",
       "    </tr>\n",
       "    <tr>\n",
       "      <th>1</th>\n",
       "      <td>Hawaii</td>\n",
       "      <td>1471</td>\n",
       "    </tr>\n",
       "    <tr>\n",
       "      <th>2</th>\n",
       "      <td>Midwest</td>\n",
       "      <td>54572</td>\n",
       "    </tr>\n",
       "    <tr>\n",
       "      <th>3</th>\n",
       "      <td>Northeast</td>\n",
       "      <td>100627</td>\n",
       "    </tr>\n",
       "    <tr>\n",
       "      <th>4</th>\n",
       "      <td>Rockies</td>\n",
       "      <td>16915</td>\n",
       "    </tr>\n",
       "    <tr>\n",
       "      <th>5</th>\n",
       "      <td>South</td>\n",
       "      <td>77262</td>\n",
       "    </tr>\n",
       "    <tr>\n",
       "      <th>6</th>\n",
       "      <td>Southwest</td>\n",
       "      <td>8520</td>\n",
       "    </tr>\n",
       "    <tr>\n",
       "      <th>7</th>\n",
       "      <td>US</td>\n",
       "      <td>31103</td>\n",
       "    </tr>\n",
       "    <tr>\n",
       "      <th>8</th>\n",
       "      <td>West Coast</td>\n",
       "      <td>64092</td>\n",
       "    </tr>\n",
       "  </tbody>\n",
       "</table>\n",
       "</div>"
      ],
      "text/plain": [
       "  User_Region  User_Name\n",
       "0      Alaska       1219\n",
       "1      Hawaii       1471\n",
       "2     Midwest      54572\n",
       "3   Northeast     100627\n",
       "4     Rockies      16915\n",
       "5       South      77262\n",
       "6   Southwest       8520\n",
       "7          US      31103\n",
       "8  West Coast      64092"
      ]
     },
     "execution_count": 104,
     "metadata": {},
     "output_type": "execute_result"
    }
   ],
   "source": [
    "tweets_classified_user_region"
   ]
  },
  {
   "cell_type": "markdown",
   "metadata": {},
   "source": [
    "### Believer vs Denier by Region"
   ]
  },
  {
   "cell_type": "code",
   "execution_count": 108,
   "metadata": {},
   "outputs": [],
   "source": [
    "tweets_classified_user_believers = tweets_classified_user_const[tweets_classified_user_const.consistency < 0.5]\n",
    "tweets_classified_user_deniers = tweets_classified_user_const[tweets_classified_user_const.consistency >= 0.5]"
   ]
  },
  {
   "cell_type": "code",
   "execution_count": 114,
   "metadata": {},
   "outputs": [],
   "source": [
    "tweets_classified_region_believers = tweets_classified_user_believers.groupby('User_Region').agg({'User_Name':'count'}).reset_index()\n",
    "tweets_classified_region_deniers = tweets_classified_user_deniers.groupby('User_Region').agg({'User_Name':'count'}).reset_index()\n",
    "tweets_classified_region_bd = tweets_classified_region_believers.merge(tweets_classified_region_deniers, how = 'left', on = 'User_Region')\n",
    "tweets_classified_region_bd.columns = ['User_Region', 'Believer_Count', 'Denier_Count']"
   ]
  },
  {
   "cell_type": "code",
   "execution_count": 115,
   "metadata": {},
   "outputs": [
    {
     "data": {
      "text/html": [
       "<div>\n",
       "<style scoped>\n",
       "    .dataframe tbody tr th:only-of-type {\n",
       "        vertical-align: middle;\n",
       "    }\n",
       "\n",
       "    .dataframe tbody tr th {\n",
       "        vertical-align: top;\n",
       "    }\n",
       "\n",
       "    .dataframe thead th {\n",
       "        text-align: right;\n",
       "    }\n",
       "</style>\n",
       "<table border=\"1\" class=\"dataframe\">\n",
       "  <thead>\n",
       "    <tr style=\"text-align: right;\">\n",
       "      <th></th>\n",
       "      <th>User_Region</th>\n",
       "      <th>Believer_Count</th>\n",
       "      <th>Denier_Count</th>\n",
       "    </tr>\n",
       "  </thead>\n",
       "  <tbody>\n",
       "    <tr>\n",
       "      <th>0</th>\n",
       "      <td>Alaska</td>\n",
       "      <td>1065</td>\n",
       "      <td>154</td>\n",
       "    </tr>\n",
       "    <tr>\n",
       "      <th>1</th>\n",
       "      <td>Hawaii</td>\n",
       "      <td>1294</td>\n",
       "      <td>177</td>\n",
       "    </tr>\n",
       "    <tr>\n",
       "      <th>2</th>\n",
       "      <td>Midwest</td>\n",
       "      <td>47053</td>\n",
       "      <td>7519</td>\n",
       "    </tr>\n",
       "    <tr>\n",
       "      <th>3</th>\n",
       "      <td>Northeast</td>\n",
       "      <td>90302</td>\n",
       "      <td>10325</td>\n",
       "    </tr>\n",
       "    <tr>\n",
       "      <th>4</th>\n",
       "      <td>Rockies</td>\n",
       "      <td>14585</td>\n",
       "      <td>2330</td>\n",
       "    </tr>\n",
       "    <tr>\n",
       "      <th>5</th>\n",
       "      <td>South</td>\n",
       "      <td>63770</td>\n",
       "      <td>13492</td>\n",
       "    </tr>\n",
       "    <tr>\n",
       "      <th>6</th>\n",
       "      <td>Southwest</td>\n",
       "      <td>7151</td>\n",
       "      <td>1369</td>\n",
       "    </tr>\n",
       "    <tr>\n",
       "      <th>7</th>\n",
       "      <td>US</td>\n",
       "      <td>24614</td>\n",
       "      <td>6489</td>\n",
       "    </tr>\n",
       "    <tr>\n",
       "      <th>8</th>\n",
       "      <td>West Coast</td>\n",
       "      <td>57039</td>\n",
       "      <td>7053</td>\n",
       "    </tr>\n",
       "  </tbody>\n",
       "</table>\n",
       "</div>"
      ],
      "text/plain": [
       "  User_Region  Believer_Count  Denier_Count\n",
       "0      Alaska            1065           154\n",
       "1      Hawaii            1294           177\n",
       "2     Midwest           47053          7519\n",
       "3   Northeast           90302         10325\n",
       "4     Rockies           14585          2330\n",
       "5       South           63770         13492\n",
       "6   Southwest            7151          1369\n",
       "7          US           24614          6489\n",
       "8  West Coast           57039          7053"
      ]
     },
     "execution_count": 115,
     "metadata": {},
     "output_type": "execute_result"
    }
   ],
   "source": [
    "tweets_classified_region_bd"
   ]
  },
  {
   "cell_type": "markdown",
   "metadata": {},
   "source": [
    "## User Location Dataframe"
   ]
  },
  {
   "cell_type": "markdown",
   "metadata": {},
   "source": [
    "- Created for Map Chart in Tableau\n",
    "    - will show distribution of believer and denier users across the US\n",
    "    - needs city and state location to place data point on map"
   ]
  },
  {
   "cell_type": "code",
   "execution_count": 116,
   "metadata": {},
   "outputs": [],
   "source": [
    "# users_location = tweets_classified_US.groupby(['User_Name', 'Believer_or_Denier', 'User_Location']).agg({'full_text':'count'}).reset_index()"
   ]
  },
  {
   "cell_type": "code",
   "execution_count": 117,
   "metadata": {},
   "outputs": [],
   "source": [
    "users_location = tweets_classified_US.groupby(['User_Name', 'User_Location']).agg({'full_text':'count', 'Believer_or_Denier': 'sum'}).reset_index()\n",
    "users_location['consistency'] = users_location['Believer_or_Denier']/users_location['full_text']"
   ]
  },
  {
   "cell_type": "code",
   "execution_count": 118,
   "metadata": {},
   "outputs": [
    {
     "data": {
      "text/html": [
       "<div>\n",
       "<style scoped>\n",
       "    .dataframe tbody tr th:only-of-type {\n",
       "        vertical-align: middle;\n",
       "    }\n",
       "\n",
       "    .dataframe tbody tr th {\n",
       "        vertical-align: top;\n",
       "    }\n",
       "\n",
       "    .dataframe thead th {\n",
       "        text-align: right;\n",
       "    }\n",
       "</style>\n",
       "<table border=\"1\" class=\"dataframe\">\n",
       "  <thead>\n",
       "    <tr style=\"text-align: right;\">\n",
       "      <th></th>\n",
       "      <th>User_Name</th>\n",
       "      <th>User_Location</th>\n",
       "      <th>full_text</th>\n",
       "      <th>Believer_or_Denier</th>\n",
       "      <th>consistency</th>\n",
       "    </tr>\n",
       "  </thead>\n",
       "  <tbody>\n",
       "    <tr>\n",
       "      <th>0</th>\n",
       "      <td></td>\n",
       "      <td>Mesa, AZ</td>\n",
       "      <td>2</td>\n",
       "      <td>2.0</td>\n",
       "      <td>1.0</td>\n",
       "    </tr>\n",
       "    <tr>\n",
       "      <th>1</th>\n",
       "      <td>Corona</td>\n",
       "      <td>Manhattan, NY</td>\n",
       "      <td>1</td>\n",
       "      <td>0.0</td>\n",
       "      <td>0.0</td>\n",
       "    </tr>\n",
       "    <tr>\n",
       "      <th>2</th>\n",
       "      <td>Watcher Underground</td>\n",
       "      <td>Greator Omaha, NE</td>\n",
       "      <td>5</td>\n",
       "      <td>2.0</td>\n",
       "      <td>0.4</td>\n",
       "    </tr>\n",
       "    <tr>\n",
       "      <th>3</th>\n",
       "      <td>ozzie Johnson</td>\n",
       "      <td>Indiana</td>\n",
       "      <td>1</td>\n",
       "      <td>0.0</td>\n",
       "      <td>0.0</td>\n",
       "    </tr>\n",
       "    <tr>\n",
       "      <th>4</th>\n",
       "      <td>!</td>\n",
       "      <td>Bronx NY</td>\n",
       "      <td>1</td>\n",
       "      <td>0.0</td>\n",
       "      <td>0.0</td>\n",
       "    </tr>\n",
       "    <tr>\n",
       "      <th>5</th>\n",
       "      <td>!</td>\n",
       "      <td>Detroit, MI</td>\n",
       "      <td>1</td>\n",
       "      <td>0.0</td>\n",
       "      <td>0.0</td>\n",
       "    </tr>\n",
       "    <tr>\n",
       "      <th>6</th>\n",
       "      <td>!</td>\n",
       "      <td>Phoenix, AZ</td>\n",
       "      <td>1</td>\n",
       "      <td>0.0</td>\n",
       "      <td>0.0</td>\n",
       "    </tr>\n",
       "    <tr>\n",
       "      <th>7</th>\n",
       "      <td>! deactivated</td>\n",
       "      <td>Washington, DC</td>\n",
       "      <td>2</td>\n",
       "      <td>0.0</td>\n",
       "      <td>0.0</td>\n",
       "    </tr>\n",
       "    <tr>\n",
       "      <th>8</th>\n",
       "      <td>! jacqueline !</td>\n",
       "      <td>Atlanta, GA</td>\n",
       "      <td>1</td>\n",
       "      <td>0.0</td>\n",
       "      <td>0.0</td>\n",
       "    </tr>\n",
       "    <tr>\n",
       "      <th>9</th>\n",
       "      <td>! xzaVier ¡</td>\n",
       "      <td>Missouri, USA</td>\n",
       "      <td>1</td>\n",
       "      <td>1.0</td>\n",
       "      <td>1.0</td>\n",
       "    </tr>\n",
       "  </tbody>\n",
       "</table>\n",
       "</div>"
      ],
      "text/plain": [
       "              User_Name       User_Location  full_text  Believer_or_Denier  \\\n",
       "0                                  Mesa, AZ          2                 2.0   \n",
       "1                Corona       Manhattan, NY          1                 0.0   \n",
       "2   Watcher Underground  Greator Omaha, NE           5                 2.0   \n",
       "3         ozzie Johnson             Indiana          1                 0.0   \n",
       "4                     !            Bronx NY          1                 0.0   \n",
       "5                     !         Detroit, MI          1                 0.0   \n",
       "6                     !         Phoenix, AZ          1                 0.0   \n",
       "7         ! deactivated      Washington, DC          2                 0.0   \n",
       "8        ! jacqueline !         Atlanta, GA          1                 0.0   \n",
       "9           ! xzaVier ¡       Missouri, USA          1                 1.0   \n",
       "\n",
       "   consistency  \n",
       "0          1.0  \n",
       "1          0.0  \n",
       "2          0.4  \n",
       "3          0.0  \n",
       "4          0.0  \n",
       "5          0.0  \n",
       "6          0.0  \n",
       "7          0.0  \n",
       "8          0.0  \n",
       "9          1.0  "
      ]
     },
     "execution_count": 118,
     "metadata": {},
     "output_type": "execute_result"
    }
   ],
   "source": [
    "users_location.head(10)"
   ]
  },
  {
   "cell_type": "code",
   "execution_count": 119,
   "metadata": {},
   "outputs": [
    {
     "data": {
      "text/plain": [
       "373084"
      ]
     },
     "execution_count": 119,
     "metadata": {},
     "output_type": "execute_result"
    }
   ],
   "source": [
    "len(users_location.User_Location)"
   ]
  },
  {
   "cell_type": "code",
   "execution_count": 120,
   "metadata": {},
   "outputs": [],
   "source": [
    "# Extract city and state from User_Location column\n",
    "\n",
    "cities = []\n",
    "states = []\n",
    "\n",
    "\n",
    "for index, rows in users_location['User_Location'].iteritems():\n",
    "    rows = rows.split(',')\n",
    "    if len(rows) == 2:\n",
    "        cities.append(rows[0])\n",
    "        states.append(rows[1])\n",
    "    else:\n",
    "        cities.append(np.nan)\n",
    "        states.append(np.nan)"
   ]
  },
  {
   "cell_type": "code",
   "execution_count": 121,
   "metadata": {},
   "outputs": [],
   "source": [
    "cities_series = pd.Series(cities)\n",
    "states_series = pd.Series(states)"
   ]
  },
  {
   "cell_type": "code",
   "execution_count": 123,
   "metadata": {},
   "outputs": [
    {
     "data": {
      "text/plain": [
       "False    271424\n",
       "True     101660\n",
       "dtype: int64"
      ]
     },
     "execution_count": 123,
     "metadata": {},
     "output_type": "execute_result"
    }
   ],
   "source": [
    "states_series.isna().value_counts()"
   ]
  },
  {
   "cell_type": "code",
   "execution_count": 125,
   "metadata": {},
   "outputs": [],
   "source": [
    "# Add city and state columns to users_location dataframe\n",
    "users_location['Cities'] = cities_series\n",
    "users_location['States'] = states_series"
   ]
  },
  {
   "cell_type": "code",
   "execution_count": 126,
   "metadata": {},
   "outputs": [],
   "source": [
    "users_location_slim = users_location.dropna()"
   ]
  },
  {
   "cell_type": "code",
   "execution_count": 131,
   "metadata": {},
   "outputs": [],
   "source": [
    "users_location_bel = users_location_slim[users_location_slim.consistency < 0.5]\n",
    "users_location_den = users_location_slim[users_location_slim.consistency >= 0.5]"
   ]
  },
  {
   "cell_type": "code",
   "execution_count": 133,
   "metadata": {},
   "outputs": [
    {
     "name": "stdout",
     "output_type": "stream",
     "text": [
      "Number of believer users: 235883\n",
      "Number of denier users: 35541\n",
      "Percent denier users: 13.1 %\n"
     ]
    }
   ],
   "source": [
    "# Check to see ratio of believers vs deniers is consistent after size of dataframe has been reduced\n",
    "print('Number of believer users:', len(users_location_bel))\n",
    "print('Number of denier users:', len(users_location_den))\n",
    "print('Percent denier users:', round(100*len(users_location_den)/(len(users_location_bel) + len(users_location_den)), 1), '%')"
   ]
  },
  {
   "cell_type": "markdown",
   "metadata": {},
   "source": [
    "### Export as CSV files"
   ]
  },
  {
   "cell_type": "code",
   "execution_count": 134,
   "metadata": {},
   "outputs": [],
   "source": [
    "users_location_slim.to_csv(r'Data/users_location_slim.csv')"
   ]
  },
  {
   "cell_type": "code",
   "execution_count": 135,
   "metadata": {},
   "outputs": [],
   "source": [
    "users_location_bel.to_csv(r'Data/users_location_bel.csv')"
   ]
  },
  {
   "cell_type": "code",
   "execution_count": 136,
   "metadata": {},
   "outputs": [],
   "source": [
    "users_location_den.to_csv(r'Data/users_location_den.csv')"
   ]
  },
  {
   "cell_type": "code",
   "execution_count": null,
   "metadata": {},
   "outputs": [],
   "source": []
  }
 ],
 "metadata": {
  "kernelspec": {
   "display_name": "Python 3",
   "language": "python",
   "name": "python3"
  },
  "language_info": {
   "codemirror_mode": {
    "name": "ipython",
    "version": 3
   },
   "file_extension": ".py",
   "mimetype": "text/x-python",
   "name": "python",
   "nbconvert_exporter": "python",
   "pygments_lexer": "ipython3",
   "version": "3.7.3"
  }
 },
 "nbformat": 4,
 "nbformat_minor": 4
}
